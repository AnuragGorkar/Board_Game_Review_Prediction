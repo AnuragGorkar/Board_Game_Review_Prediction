{
  "nbformat": 4,
  "nbformat_minor": 0,
  "metadata": {
    "colab": {
      "name": "Board_Game_Review_Prediction.ipynb",
      "provenance": [],
      "collapsed_sections": [],
      "mount_file_id": "1D_it0SUFeqPt4MkPcKnkoiotutgBX3qJ",
      "authorship_tag": "ABX9TyOd7u2f8HljKMu+mkyKNv4j",
      "include_colab_link": true
    },
    "kernelspec": {
      "name": "python3",
      "display_name": "Python 3"
    },
    "accelerator": "GPU"
  },
  "cells": [
    {
      "cell_type": "markdown",
      "metadata": {
        "id": "view-in-github",
        "colab_type": "text"
      },
      "source": [
        "<a href=\"https://colab.research.google.com/github/AnuragGorkar/Board_Game_Review_Prediction/blob/master/Board_Game_Review_Prediction.ipynb\" target=\"_parent\"><img src=\"https://colab.research.google.com/assets/colab-badge.svg\" alt=\"Open In Colab\"/></a>"
      ]
    },
    {
      "cell_type": "code",
      "metadata": {
        "id": "-MjnDGCmSzl8",
        "colab_type": "code",
        "colab": {}
      },
      "source": [
        "import pandas as pd\n",
        "import matplotlib\n",
        "import seaborn as sns \n",
        "import sklearn\n",
        "sns.set()"
      ],
      "execution_count": 0,
      "outputs": []
    },
    {
      "cell_type": "code",
      "metadata": {
        "id": "wI2lEnN3Ns01",
        "colab_type": "code",
        "colab": {}
      },
      "source": [
        "import matplotlib.pyplot as plt\n",
        "from sklearn.model_selection import train_test_split"
      ],
      "execution_count": 0,
      "outputs": []
    },
    {
      "cell_type": "code",
      "metadata": {
        "id": "1giDYekSN8nN",
        "colab_type": "code",
        "colab": {}
      },
      "source": [
        "games = pd.read_csv(\"/content/drive/My Drive/MACHINE LEARNING DATASETS/games.csv\")"
      ],
      "execution_count": 0,
      "outputs": []
    },
    {
      "cell_type": "code",
      "metadata": {
        "id": "IjbFdASaOHGo",
        "colab_type": "code",
        "colab": {
          "base_uri": "https://localhost:8080/",
          "height": 134
        },
        "outputId": "0ce7daed-67d1-4f9f-ef5f-30ab66288d9c"
      },
      "source": [
        "print(games.columns)\n",
        "print(games.shape)"
      ],
      "execution_count": 4,
      "outputs": [
        {
          "output_type": "stream",
          "text": [
            "Index(['id', 'type', 'name', 'yearpublished', 'minplayers', 'maxplayers',\n",
            "       'playingtime', 'minplaytime', 'maxplaytime', 'minage', 'users_rated',\n",
            "       'average_rating', 'bayes_average_rating', 'total_owners',\n",
            "       'total_traders', 'total_wanters', 'total_wishers', 'total_comments',\n",
            "       'total_weights', 'average_weight'],\n",
            "      dtype='object')\n",
            "(81312, 20)\n"
          ],
          "name": "stdout"
        }
      ]
    },
    {
      "cell_type": "code",
      "metadata": {
        "id": "vvGsxW6qPWdE",
        "colab_type": "code",
        "colab": {
          "base_uri": "https://localhost:8080/",
          "height": 268
        },
        "outputId": "3bd7e245-f847-45cf-aacd-248ac1227faf"
      },
      "source": [
        "plt.hist(games[\"average_rating\"])\n",
        "plt.show()"
      ],
      "execution_count": 5,
      "outputs": [
        {
          "output_type": "display_data",
          "data": {
            "image/png": "[encoded data removed]",
            "text/plain": [
              "<Figure size 432x288 with 1 Axes>"
            ]
          },
          "metadata": {
            "tags": []
          }
        }
      ]
    },
    {
      "cell_type": "code",
      "metadata": {
        "id": "jjTu-c8YPiop",
        "colab_type": "code",
        "colab": {
          "base_uri": "https://localhost:8080/",
          "height": 370
        },
        "outputId": "b30533a3-2156-4912-9fb6-f5616b5c9bdc"
      },
      "source": [
        "print(games[games[\"average_rating\"] == 0].iloc[0])"
      ],
      "execution_count": 6,
      "outputs": [
        {
          "output_type": "stream",
          "text": [
            "id                             318\n",
            "type                     boardgame\n",
            "name                    Looney Leo\n",
            "yearpublished                    0\n",
            "minplayers                       0\n",
            "maxplayers                       0\n",
            "playingtime                      0\n",
            "minplaytime                      0\n",
            "maxplaytime                      0\n",
            "minage                           0\n",
            "users_rated                      0\n",
            "average_rating                   0\n",
            "bayes_average_rating             0\n",
            "total_owners                     0\n",
            "total_traders                    0\n",
            "total_wanters                    0\n",
            "total_wishers                    1\n",
            "total_comments                   0\n",
            "total_weights                    0\n",
            "average_weight                   0\n",
            "Name: 13048, dtype: object\n"
          ],
          "name": "stdout"
        }
      ]
    },
    {
      "cell_type": "code",
      "metadata": {
        "id": "7Km0-A7yP_17",
        "colab_type": "code",
        "colab": {
          "base_uri": "https://localhost:8080/",
          "height": 268
        },
        "outputId": "3f9619bd-a5a2-47db-8d6e-76b18bd7a047"
      },
      "source": [
        "games = games[games[\"users_rated\"] > 0]\n",
        "games = games.dropna(axis=0)\n",
        "\n",
        "plt.hist(games[\"average_rating\"])\n",
        "plt.show()"
      ],
      "execution_count": 7,
      "outputs": [
        {
          "output_type": "display_data",
          "data": {
            "image/png": "[encoded data removed]",
            "text/plain": [
              "<Figure size 432x288 with 1 Axes>"
            ]
          },
          "metadata": {
            "tags": []
          }
        }
      ]
    },
    {
      "cell_type": "code",
      "metadata": {
        "id": "7eLvJG4oQX0_",
        "colab_type": "code",
        "colab": {
          "base_uri": "https://localhost:8080/",
          "height": 673
        },
        "outputId": "14460b02-2cec-4b34-fea6-095566b0a04f"
      },
      "source": [
        "corrmat = games.corr()\n",
        "fig = plt.figure(figsize = (12,9))\n",
        "\n",
        "sns.heatmap(corrmat , vmax = 0.8, square = True)"
      ],
      "execution_count": 8,
      "outputs": [
        {
          "output_type": "execute_result",
          "data": {
            "text/plain": [
              "<matplotlib.axes._subplots.AxesSubplot at 0x7fea20187b38>"
            ]
          },
          "metadata": {
            "tags": []
          },
          "execution_count": 8
        },
        {
          "output_type": "display_data",
          "data": {
            "image/png": "[encoded data removed]",
            "text/plain": [
              "<Figure size 864x648 with 2 Axes>"
            ]
          },
          "metadata": {
            "tags": []
          }
        }
      ]
    },
    {
      "cell_type": "code",
      "metadata": {
        "id": "4md83iK1Q2Lk",
        "colab_type": "code",
        "colab": {}
      },
      "source": [
        "columns = games.columns.to_list()\n",
        "\n",
        "columns = [c for c in columns if c not in  [\"bayes_average_rating\", \"average_rating\", \"type\", \"name\", \"id\"]]\n",
        "\n",
        "target = \"average_rating\""
      ],
      "execution_count": 0,
      "outputs": []
    },
    {
      "cell_type": "code",
      "metadata": {
        "id": "NfLYfz4xRthc",
        "colab_type": "code",
        "colab": {}
      },
      "source": [
        "train = games.sample(frac = 0.8, random_state = 1)\n",
        "test = games.loc[~games.index.isin(train.index)]"
      ],
      "execution_count": 0,
      "outputs": []
    },
    {
      "cell_type": "code",
      "metadata": {
        "id": "48LHBC9USJpJ",
        "colab_type": "code",
        "colab": {
          "base_uri": "https://localhost:8080/",
          "height": 50
        },
        "outputId": "5f3282d3-8dba-495b-ec2f-6428b8e1b714"
      },
      "source": [
        "print(train.shape)\n",
        "print(test.shape)"
      ],
      "execution_count": 11,
      "outputs": [
        {
          "output_type": "stream",
          "text": [
            "(45515, 20)\n",
            "(11379, 20)\n"
          ],
          "name": "stdout"
        }
      ]
    },
    {
      "cell_type": "code",
      "metadata": {
        "id": "iESFM1MnSPQx",
        "colab_type": "code",
        "colab": {}
      },
      "source": [
        "from sklearn.linear_model import LinearRegression\n",
        "from sklearn.metrics import mean_squared_error"
      ],
      "execution_count": 0,
      "outputs": []
    },
    {
      "cell_type": "code",
      "metadata": {
        "id": "Qh8Bl3kBS0IO",
        "colab_type": "code",
        "colab": {
          "base_uri": "https://localhost:8080/",
          "height": 34
        },
        "outputId": "bc6db9ac-8cf5-4f57-9f3f-8036f54b7b4f"
      },
      "source": [
        "LR = LinearRegression()\n",
        "LR.fit(train[columns], train[target])"
      ],
      "execution_count": 13,
      "outputs": [
        {
          "output_type": "execute_result",
          "data": {
            "text/plain": [
              "LinearRegression(copy_X=True, fit_intercept=True, n_jobs=None, normalize=False)"
            ]
          },
          "metadata": {
            "tags": []
          },
          "execution_count": 13
        }
      ]
    },
    {
      "cell_type": "code",
      "metadata": {
        "id": "fx3Lb7cPS-XV",
        "colab_type": "code",
        "colab": {
          "base_uri": "https://localhost:8080/",
          "height": 34
        },
        "outputId": "146738c8-463a-4366-bee4-6f4985d3f879"
      },
      "source": [
        "predictions = LR.predict(test[columns])\n",
        "mean_squared_error(predictions, test[target])"
      ],
      "execution_count": 14,
      "outputs": [
        {
          "output_type": "execute_result",
          "data": {
            "text/plain": [
              "2.078819032629323"
            ]
          },
          "metadata": {
            "tags": []
          },
          "execution_count": 14
        }
      ]
    },
    {
      "cell_type": "code",
      "metadata": {
        "id": "PJcDXzdjTRCq",
        "colab_type": "code",
        "colab": {}
      },
      "source": [
        "from sklearn.ensemble import RandomForestRegressor\n",
        "\n",
        "RFR = RandomForestRegressor(n_estimators = 100, min_samples_leaf = 10, random_state = 1)"
      ],
      "execution_count": 0,
      "outputs": []
    },
    {
      "cell_type": "code",
      "metadata": {
        "id": "A-c5irs4Txlb",
        "colab_type": "code",
        "colab": {
          "base_uri": "https://localhost:8080/",
          "height": 134
        },
        "outputId": "7e50a2bb-640b-4c06-c733-7077d5f67e57"
      },
      "source": [
        "RFR.fit(train[columns], train[target])"
      ],
      "execution_count": 16,
      "outputs": [
        {
          "output_type": "execute_result",
          "data": {
            "text/plain": [
              "RandomForestRegressor(bootstrap=True, ccp_alpha=0.0, criterion='mse',\n",
              "                      max_depth=None, max_features='auto', max_leaf_nodes=None,\n",
              "                      max_samples=None, min_impurity_decrease=0.0,\n",
              "                      min_impurity_split=None, min_samples_leaf=10,\n",
              "                      min_samples_split=2, min_weight_fraction_leaf=0.0,\n",
              "                      n_estimators=100, n_jobs=None, oob_score=False,\n",
              "                      random_state=1, verbose=0, warm_start=False)"
            ]
          },
          "metadata": {
            "tags": []
          },
          "execution_count": 16
        }
      ]
    },
    {
      "cell_type": "code",
      "metadata": {
        "id": "KFDWXieXT7ND",
        "colab_type": "code",
        "colab": {
          "base_uri": "https://localhost:8080/",
          "height": 34
        },
        "outputId": "3352e803-7bdf-4d4b-a938-bdfb193bfada"
      },
      "source": [
        "predictions = RFR.predict(test[columns])\n",
        "mean_squared_error(predictions, test[target])"
      ],
      "execution_count": 17,
      "outputs": [
        {
          "output_type": "execute_result",
          "data": {
            "text/plain": [
              "1.4458560046071653"
            ]
          },
          "metadata": {
            "tags": []
          },
          "execution_count": 17
        }
      ]
    },
    {
      "cell_type": "code",
      "metadata": {
        "id": "mVpM1EYZUJUI",
        "colab_type": "code",
        "colab": {
          "base_uri": "https://localhost:8080/",
          "height": 286
        },
        "outputId": "1d99e310-f6ff-4de4-8bd0-62a98c4bff99"
      },
      "source": [
        "test[columns].iloc[0]"
      ],
      "execution_count": 18,
      "outputs": [
        {
          "output_type": "execute_result",
          "data": {
            "text/plain": [
              "yearpublished      2011.0000\n",
              "minplayers            2.0000\n",
              "maxplayers            6.0000\n",
              "playingtime         200.0000\n",
              "minplaytime          60.0000\n",
              "maxplaytime         200.0000\n",
              "minage               14.0000\n",
              "users_rated       15709.0000\n",
              "total_owners      17611.0000\n",
              "total_traders       273.0000\n",
              "total_wanters      1108.0000\n",
              "total_wishers      5581.0000\n",
              "total_comments     3188.0000\n",
              "total_weights      1486.0000\n",
              "average_weight        3.6359\n",
              "Name: 9, dtype: float64"
            ]
          },
          "metadata": {
            "tags": []
          },
          "execution_count": 18
        }
      ]
    },
    {
      "cell_type": "code",
      "metadata": {
        "id": "kruXRyJ6Ui2R",
        "colab_type": "code",
        "colab": {
          "base_uri": "https://localhost:8080/",
          "height": 67
        },
        "outputId": "55e69cf6-0b3e-48cb-c78e-d87e6804e3ef"
      },
      "source": [
        "rating_LR = LR.predict(test[columns].iloc[0].values.reshape(1,-1))\n",
        "rating_RFR = RFR.predict(test[columns].iloc[0].values.reshape(1, -1))\n",
        "print(f\"ACTUAL RATING ::{test[target].iloc[0]}\")\n",
        "print(f\"LINEAR REGRESSOR PREDICTED RATING :: {rating_LR}\")\n",
        "print(f\"RANDOM FOREST PREDICTED RATING :: {rating_RFR}\")"
      ],
      "execution_count": 28,
      "outputs": [
        {
          "output_type": "stream",
          "text": [
            "ACTUAL RATING ::8.07933\n",
            "LINEAR REGRESSOR PREDICTED RATING :: [8.12061283]\n",
            "RANDOM FOREST PREDICTED RATING :: [7.91373581]\n"
          ],
          "name": "stdout"
        }
      ]
    },
    {
      "cell_type": "code",
      "metadata": {
        "id": "4KMXTah4Uy_d",
        "colab_type": "code",
        "colab": {}
      },
      "source": [
        ""
      ],
      "execution_count": 0,
      "outputs": []
    }
  ]
}